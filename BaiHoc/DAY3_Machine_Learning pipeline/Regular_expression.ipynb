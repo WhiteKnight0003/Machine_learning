{
 "cells": [
  {
   "cell_type": "code",
   "execution_count": null,
   "metadata": {
    "id": "MeeE28E4AUlY"
   },
   "outputs": [],
   "source": [
    "\n"
   ]
  },
  {
   "cell_type": "code",
   "execution_count": null,
   "metadata": {
    "colab": {
     "base_uri": "https://localhost:8080/"
    },
    "executionInfo": {
     "elapsed": 271,
     "status": "ok",
     "timestamp": 1736776178879,
     "user": {
      "displayName": "While Knight",
      "userId": "02039678456339365681"
     },
     "user_tz": -420
    },
    "id": "soqnmPFa4WfO",
    "outputId": "9bbd0d01-f9b0-4d9b-f40a-13396747f158"
   },
   "outputs": [
    {
     "name": "stdout",
     "output_type": "stream",
     "text": [
      "['+84 1748048234', '01233035712']\n"
     ]
    }
   ],
   "source": [
    "# ví dụ bạn có 1 cái input\n",
    "# My phone number is +84 1748048234 . My brother's one is 01233035712\n",
    "# nhiệm vụ của bạn là lấy ra những chỗ mà nó chỉ số phone\n",
    "\n",
    "# https://www.w3schools.com/python/python_regex.asp link hocj\n",
    "\n",
    "import re\n",
    "\n",
    "txt = \"My dad is 57 years old . My phone number is +84 1748048234 . My brother's one is 01233035712\"\n",
    "result = re.findall(\"\\+?\\d+\\ ?\\d{3,}\", txt)\n",
    "print(result)\n",
    "\n",
    "# Hàm re.findall(pattern, txt)  - Trả về danh sách (list) tất cả các substring trong txt khớp với pattern  - Nếu không tìm thấy gì, trả về danh sách rỗng [].\n",
    "\n",
    "# | Phần     | Giải thích                                         |\n",
    "# | -------- | -------------------------------------------------- |\n",
    "# | `\\+?`    | Dấu `+` *tùy chọn* (có thể có hoặc không).         |\n",
    "# | `\\d+`    | Ít nhất 1 chữ số (0-9), nhiều nhất không giới hạn. |\n",
    "# | `\\ ?`    | 1 khoảng trắng *tùy chọn* (có hoặc không).         |\n",
    "# | `\\d{3,}` | Ít nhất 3 chữ số (có thể nhiều hơn).               |\n",
    "\n"
   ]
  },
  {
   "cell_type": "code",
   "execution_count": null,
   "metadata": {
    "colab": {
     "base_uri": "https://localhost:8080/"
    },
    "executionInfo": {
     "elapsed": 298,
     "status": "ok",
     "timestamp": 1736776852047,
     "user": {
      "displayName": "While Knight",
      "userId": "02039678456339365681"
     },
     "user_tz": -420
    },
    "id": "fUNa0frm73A4",
    "outputId": "e86b8772-5806-4df3-ac3c-0c03b8d1c623"
   },
   "outputs": [
    {
     "name": "stdout",
     "output_type": "stream",
     "text": [
      "['chugn123@gmail.com', 'abc@yahoo.com.vn']\n"
     ]
    }
   ],
   "source": [
    "# ví dụ bạn có 1 cái input\n",
    "# My email  is chugn123@gmail.com . My brother's one is abc@yahoo.com.vn\n",
    "# laays email\n",
    "\n",
    "# import re\n",
    "# txt_email =  \"My email  is chugn123@gmail.com . My brother's one is abc@yahoo.com.vn\"\n",
    "# res = re.findall(r'\\w+\\@\\w+(\\.\\w+){1,2}', txt_email)\n",
    "# print(res)\n",
    "\n",
    "import re\n",
    "txt_email = \"My email is chugn123@gmail.com . My brother's one is abc@yahoo.com.vn\"\n",
    "res = re.findall(r'\\w+@\\w+(?:\\.\\w+){1,2}', txt_email)\n",
    "print(res)\n",
    "\n",
    "# \\w+ # Một hoặc nhiều ký tự chữ cái, số hoặc dấu gạch dưới (a-z, A-Z, 0-9, _).\n",
    "# @ # Ký tự @.\n",
    "# ?"
   ]
  }
 ],
 "metadata": {
  "colab": {
   "authorship_tag": "ABX9TyPiuMrkeNt7eYfREl9Wfh1T",
   "provenance": []
  },
  "kernelspec": {
   "display_name": "env_python",
   "language": "python",
   "name": "python3"
  },
  "language_info": {
   "codemirror_mode": {
    "name": "ipython",
    "version": 3
   },
   "file_extension": ".py",
   "mimetype": "text/x-python",
   "name": "python",
   "nbconvert_exporter": "python",
   "pygments_lexer": "ipython3",
   "version": "3.11.11"
  }
 },
 "nbformat": 4,
 "nbformat_minor": 0
}
