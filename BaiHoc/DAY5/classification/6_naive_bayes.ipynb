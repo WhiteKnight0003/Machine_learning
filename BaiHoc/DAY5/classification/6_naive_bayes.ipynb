{
 "cells": [
  {
   "cell_type": "markdown",
   "id": "ba013789",
   "metadata": {},
   "source": [
    "4. Naive Bayes\n",
    "Khái niệm:\n",
    "- Dựa trên định lý Bayes với giả thiết features độc lập có điều kiện.\n",
    "\n",
    "Cơ chế hoạt động:\n",
    "1. Tính P(y|x) ∝ P(y) ∏ P(x_j|y).\n",
    "2. Các dạng: Gaussian NB, Multinomial NB, Bernoulli NB.\n",
    "\n",
    "Ưu điểm:\n",
    "- Huấn luyện và dự đoán nhanh.\n",
    "- Hiệu quả với dữ liệu văn bản.\n",
    "\n",
    "Nhược điểm:\n",
    "- Giả thiết độc lập không luôn đúng.\n",
    "- Kém trong tương tác phức tạp giữa features.\n",
    "\n",
    "Ứng dụng:\n",
    "- Lọc spam.\n",
    "- Phân loại chủ đề văn bản."
   ]
  }
 ],
 "metadata": {
  "language_info": {
   "name": "python"
  }
 },
 "nbformat": 4,
 "nbformat_minor": 5
}
